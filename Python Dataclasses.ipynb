{
 "cells": [
  {
   "cell_type": "markdown",
   "metadata": {
    "slideshow": {
     "slide_type": "slide"
    }
   },
   "source": [
    "## Dataclasses in Python\n",
    "\n",
    "#### Simon Westerberg\n",
    "##### Sartorius Stedim Data Analytics\n",
    "\n"
   ]
  },
  {
   "cell_type": "markdown",
   "metadata": {
    "slideshow": {
     "slide_type": "slide"
    }
   },
   "source": [
    "### Chapter 1 \n",
    "*The licensed cat owner*"
   ]
  },
  {
   "cell_type": "markdown",
   "metadata": {
    "slideshow": {
     "slide_type": "notes"
    }
   },
   "source": [
    "\n",
    "Assume that we have some software in which we want to represent cat owners. \n",
    "\n",
    "There is some information tied to each cat owner, specifically:\n",
    "* Name\n",
    "* Whether they have a cat owner license\n",
    "* A list of cats that they own\n",
    "\n",
    "\n"
   ]
  },
  {
   "cell_type": "markdown",
   "metadata": {
    "slideshow": {
     "slide_type": "notes"
    }
   },
   "source": [
    "In python there are of course many different ways to represent this data.\n",
    "For instance, we could use a tuple like this:"
   ]
  },
  {
   "cell_type": "code",
   "execution_count": null,
   "metadata": {
    "slideshow": {
     "slide_type": "fragment"
    }
   },
   "outputs": [],
   "source": [
    "a = ('Anna', True, ['Meowski'])\n",
    "print(a)"
   ]
  },
  {
   "cell_type": "markdown",
   "metadata": {
    "slideshow": {
     "slide_type": "notes"
    }
   },
   "source": [
    "However, a major drawback of tuples is that we don’t know what the data represent. For instance, `True` could mean anything. \n",
    "\n",
    "Another option is to use a key/value datatype, like a `dict`:"
   ]
  },
  {
   "cell_type": "code",
   "execution_count": null,
   "metadata": {
    "scrolled": false,
    "slideshow": {
     "slide_type": "fragment"
    }
   },
   "outputs": [],
   "source": [
    "a = {'name': 'Anna', 'has_license': True, 'cats': ['Meowski']}\n",
    "print(a)"
   ]
  },
  {
   "cell_type": "markdown",
   "metadata": {
    "slideshow": {
     "slide_type": "notes"
    }
   },
   "source": [
    "This is a bit better since we now know what each property represents. However, we still don’t know what the dictionary itself represents. It could be a cat hunter, with a cat hunting license, who has currently killed one cat (Meowski).\n",
    "\n",
    "We have no type specification, we don’t know if there is some missing information, or too much information."
   ]
  },
  {
   "cell_type": "markdown",
   "metadata": {
    "slideshow": {
     "slide_type": "notes"
    }
   },
   "source": [
    "Next datatype we can try is the named tuple. It exists in two versions. Let’s look at the old one first."
   ]
  },
  {
   "cell_type": "code",
   "execution_count": null,
   "metadata": {
    "slideshow": {
     "slide_type": "fragment"
    }
   },
   "outputs": [],
   "source": [
    "from collections import namedtuple\n",
    "CatOwner = namedtuple('CatOwner', ['name', 'has_license', 'cats'])\n",
    "\n",
    "a = CatOwner('Anna', True, ['Meowski'])\n",
    "print(a)"
   ]
  },
  {
   "cell_type": "markdown",
   "metadata": {
    "slideshow": {
     "slide_type": "notes"
    }
   },
   "source": [
    "Now we have a name for the type, and for the fields. Great. \n",
    "However, we have to specify the name twice, and if they mismatch, things get confusing…\n",
    "Further, we cannot make use of Python type hints, e.g. specifying that the name should be a string. \n",
    "\n",
    "So in Python 3.6, we got the other version of the named tuple, the typed NamedTuple:"
   ]
  },
  {
   "cell_type": "code",
   "execution_count": null,
   "metadata": {
    "slideshow": {
     "slide_type": "slide"
    }
   },
   "outputs": [],
   "source": [
    "from typing import NamedTuple, List\n",
    "class CatOwner(NamedTuple):\n",
    "    name: str\n",
    "    has_license: bool = True\n",
    "    cats: List[str] = [\"Meowski\"]"
   ]
  },
  {
   "cell_type": "markdown",
   "metadata": {
    "slideshow": {
     "slide_type": "notes"
    }
   },
   "source": [
    "This version also provides an easy way to specify default values. \n",
    "\n",
    "Let’s say most cat owners actually become cat owners i samband med att de get their cat license. They apply for license and receives a diploma, as well as a cat, called Meowski.\n",
    "\n",
    "We can specify this in the class template and then instantiate two cat owners, and they both have their default values. "
   ]
  },
  {
   "cell_type": "code",
   "execution_count": null,
   "metadata": {
    "scrolled": false,
    "slideshow": {
     "slide_type": "fragment"
    }
   },
   "outputs": [],
   "source": [
    "a = CatOwner(\"Anna\")\n",
    "b = CatOwner(\"Bob\")\n",
    "\n",
    "print(a)\n",
    "print(b)"
   ]
  },
  {
   "cell_type": "markdown",
   "metadata": {
    "slideshow": {
     "slide_type": "notes"
    }
   },
   "source": [
    "Looks good, right? Well, it's not..."
   ]
  },
  {
   "cell_type": "markdown",
   "metadata": {
    "slideshow": {
     "slide_type": "slide"
    }
   },
   "source": [
    "### Chapter 2 \n",
    "*The tumble dryer incident*"
   ]
  },
  {
   "cell_type": "markdown",
   "metadata": {
    "slideshow": {
     "slide_type": "notes"
    }
   },
   "source": [
    "After a while, Anna's cat accidentally ends up in the tumble dryer.\n",
    "We want our data to reflect this.\n",
    "\n",
    "First we remove the cat from her list of cats."
   ]
  },
  {
   "cell_type": "code",
   "execution_count": null,
   "metadata": {
    "scrolled": true,
    "slideshow": {
     "slide_type": "fragment"
    }
   },
   "outputs": [],
   "source": [
    "a.cats.remove('Meowski')\n",
    "print(a.cats)"
   ]
  },
  {
   "cell_type": "markdown",
   "metadata": {
    "slideshow": {
     "slide_type": "notes"
    }
   },
   "source": [
    "Now that list is empty.\n",
    "However, Bobs list of cats is also empty…"
   ]
  },
  {
   "cell_type": "code",
   "execution_count": null,
   "metadata": {
    "scrolled": true,
    "slideshow": {
     "slide_type": "fragment"
    }
   },
   "outputs": [],
   "source": [
    "print(b.cats)"
   ]
  },
  {
   "cell_type": "markdown",
   "metadata": {
    "slideshow": {
     "slide_type": "notes"
    }
   },
   "source": [
    "This is because a list behaves like a reference type, where the list ovject is created when the class is created, and all CatOwner instances get references to the same object.\n",
    "\n",
    "We also want to revoke Anna’s cat owner license:"
   ]
  },
  {
   "cell_type": "code",
   "execution_count": null,
   "metadata": {
    "scrolled": true,
    "slideshow": {
     "slide_type": "fragment"
    }
   },
   "outputs": [],
   "source": [
    "a.has_license = False"
   ]
  },
  {
   "cell_type": "markdown",
   "metadata": {
    "slideshow": {
     "slide_type": "notes"
    }
   },
   "source": [
    "However, named tuples are immutable, and this results in an error.\n",
    "\n",
    "Immutability is often desirable, so nothing inherently wrong with this. \n",
    "But there are cases where mutability is desired, e.g. for performance reasons.\n",
    "And we still need to fix the problem with default values for reference types."
   ]
  },
  {
   "cell_type": "markdown",
   "metadata": {
    "slideshow": {
     "slide_type": "slide"
    }
   },
   "source": [
    "## Chapter 3\n",
    "*The* `class`*y solution*"
   ]
  },
  {
   "cell_type": "markdown",
   "metadata": {
    "slideshow": {
     "slide_type": "notes"
    }
   },
   "source": [
    "How about using a good old regular class then? Let's try!\n",
    "\n",
    "First we need a constructor. It would be tempting to specify the default values for the `cats` parameter directly in the parameter list, however that would lead to the same problem, where all instances would reference the same object. Instead we need to construct the list in the constructor body."
   ]
  },
  {
   "cell_type": "code",
   "execution_count": null,
   "metadata": {
    "slideshow": {
     "slide_type": "fragment"
    }
   },
   "outputs": [],
   "source": [
    "class CatOwner:\n",
    "    def __init__(self, name, has_license=True, cats=None):\n",
    "        self.name = name\n",
    "        self.has_license = has_license\n",
    "        if cats is None:\n",
    "            self.cats = ['Meowski']"
   ]
  },
  {
   "cell_type": "markdown",
   "metadata": {
    "slideshow": {
     "slide_type": "notes"
    }
   },
   "source": [
    "We try again to create two cat owners, remove Meowski from one of them, then print the objects to see if it works…"
   ]
  },
  {
   "cell_type": "code",
   "execution_count": null,
   "metadata": {
    "slideshow": {
     "slide_type": "fragment"
    }
   },
   "outputs": [],
   "source": [
    "a = CatOwner('Anna')\n",
    "b = CatOwner('Bob')\n",
    "\n",
    "a.cats.remove('Meowski')\n",
    "print(a)\n",
    "print(b)"
   ]
  },
  {
   "cell_type": "markdown",
   "metadata": {
    "slideshow": {
     "slide_type": "notes"
    }
   },
   "source": [
    "Oh, we cant't see by just printing the object, because we don’t have any string representation of the class. Let’s add one:"
   ]
  },
  {
   "cell_type": "code",
   "execution_count": null,
   "metadata": {
    "slideshow": {
     "slide_type": "slide"
    }
   },
   "outputs": [],
   "source": [
    "class CatOwner:\n",
    "    def __init__(self, name, has_license=True, cats=None):\n",
    "        self.name = name\n",
    "        self.has_license = has_license\n",
    "        if cats is None:\n",
    "            self.cats = ['Meowski']\n",
    "        \n",
    "    def __repr__(self):\n",
    "        return (self.__class__.__qualname__ +\n",
    "            f\"(name={self.name}, has_license={self.has_license}, cats={self.cats})\")"
   ]
  },
  {
   "cell_type": "code",
   "execution_count": null,
   "metadata": {
    "slideshow": {
     "slide_type": "fragment"
    }
   },
   "outputs": [],
   "source": [
    "a = CatOwner('Anna')\n",
    "b = CatOwner('Bob')\n",
    "\n",
    "a.cats.remove('Meowski')\n",
    "print(a)\n",
    "print(b)"
   ]
  },
  {
   "cell_type": "markdown",
   "metadata": {
    "slideshow": {
     "slide_type": "notes"
    }
   },
   "source": [
    "Good, it seems to work.\n",
    "\n",
    "Of course, we would also like to be able to compare different cat owners, so we need to add an equality method:"
   ]
  },
  {
   "cell_type": "code",
   "execution_count": null,
   "metadata": {
    "slideshow": {
     "slide_type": "slide"
    }
   },
   "outputs": [],
   "source": [
    "twin_1 = CatOwner('Twin')\n",
    "twin_2 = CatOwner('Twin')\n",
    "\n",
    "print(twin_1)\n",
    "print(twin_2)\n"
   ]
  },
  {
   "cell_type": "code",
   "execution_count": null,
   "metadata": {
    "slideshow": {
     "slide_type": "fragment"
    }
   },
   "outputs": [],
   "source": [
    "print('Twin == Twin?', twin_1 == twin_2)"
   ]
  },
  {
   "cell_type": "code",
   "execution_count": null,
   "metadata": {
    "slideshow": {
     "slide_type": "slide"
    }
   },
   "outputs": [],
   "source": [
    "class CatOwner:\n",
    "    def __init__(self, name, has_license=True, cats=None):\n",
    "        self.name = name\n",
    "        self.has_license = has_license\n",
    "        if cats is None:\n",
    "            self.cats = ['Meowski', 'Purrski']\n",
    "        \n",
    "    def __repr__(self):\n",
    "        return (self.__class__.__qualname__ +\n",
    "            f\"(name={self.name}, has_license={self.has_license}, cats={self.cats})\")\n",
    "    \n",
    "    def __eq__(self, other):\n",
    "        if not isinstance(other, CatOwner):\n",
    "            return NotImplemented\n",
    "        return \\\n",
    "            self.name == other.name and \\\n",
    "            self.has_license == other.has_license and \\\n",
    "            self.cats == other.cats"
   ]
  },
  {
   "cell_type": "markdown",
   "metadata": {
    "slideshow": {
     "slide_type": "notes"
    }
   },
   "source": [
    "And honestly, our code doesn't look that nice any more. If we also would like to be able to order objects, or place them in a dict, we would need an implementation of additional special methods. Not just a simple data representation anymore..."
   ]
  },
  {
   "cell_type": "code",
   "execution_count": null,
   "metadata": {
    "slideshow": {
     "slide_type": "skip"
    }
   },
   "outputs": [],
   "source": [
    "class CatOwner:\n",
    "    def __init__(self, name, has_license=True, cats=None):\n",
    "        self.name = name\n",
    "        self.has_license = has_license\n",
    "        if cats is None:\n",
    "            self.cats = ['Meowski', 'Purrski']\n",
    "        \n",
    "    def __repr__(self):\n",
    "        return (self.__class__.__qualname__ +\n",
    "            f\"(name={self.name}, has_license={self.has_license}, cats={self.cats})\")\n",
    "    \n",
    "    def __eq__(self, other):\n",
    "        if not isinstance(other, CatOwner):\n",
    "            return NotImplemented\n",
    "        return \\\n",
    "            self.name == other.name and \\\n",
    "            self.has_license == other.has_license and \\\n",
    "            self.cats == other.cats\n",
    "    \n",
    "    # def __hash__(self):\n",
    "        # ...\n",
    "        \n",
    "    # def __le__(self, other):\n",
    "        # ...\n",
    "        \n",
    "    # def __lt__(self, other):\n",
    "        # ...\n",
    "        \n",
    "    # def __gt__(self, other):\n",
    "        # ..."
   ]
  },
  {
   "cell_type": "markdown",
   "metadata": {
    "slideshow": {
     "slide_type": "slide"
    }
   },
   "source": [
    "### Chapter 4\n",
    "*The dataclass (finally)*"
   ]
  },
  {
   "cell_type": "markdown",
   "metadata": {
    "slideshow": {
     "slide_type": "notes"
    }
   },
   "source": [
    "Now we are ready to look at the dataclass, introduced in Python 3.7.\n",
    "\n",
    "The dataclass looks similar to the typed named tuple, e.g.:"
   ]
  },
  {
   "cell_type": "code",
   "execution_count": null,
   "metadata": {
    "slideshow": {
     "slide_type": "fragment"
    }
   },
   "outputs": [],
   "source": [
    "from dataclasses import dataclass\n",
    "\n",
    "@dataclass\n",
    "class CatOwner:\n",
    "    name: str\n",
    "    has_license: bool\n",
    "    cats: List[str]       "
   ]
  },
  {
   "cell_type": "markdown",
   "metadata": {
    "slideshow": {
     "slide_type": "fragment"
    }
   },
   "source": [
    "vs."
   ]
  },
  {
   "cell_type": "code",
   "execution_count": null,
   "metadata": {
    "slideshow": {
     "slide_type": "-"
    }
   },
   "outputs": [],
   "source": [
    "from typing import NamedTuple\n",
    "\n",
    "class CatOwner(NamedTuple):\n",
    "    name: str\n",
    "    has_license: bool\n",
    "    cats: List[str]"
   ]
  },
  {
   "cell_type": "markdown",
   "metadata": {
    "slideshow": {
     "slide_type": "notes"
    }
   },
   "source": [
    "The dataclass can have default values for value types like bool,\n",
    "but if we try to do the same to a list, we get an error."
   ]
  },
  {
   "cell_type": "code",
   "execution_count": null,
   "metadata": {
    "slideshow": {
     "slide_type": "slide"
    }
   },
   "outputs": [],
   "source": [
    "from dataclasses import dataclass\n",
    "\n",
    "@dataclass\n",
    "class CatOwner:\n",
    "    name: str\n",
    "    has_license: bool = True\n",
    "    cats: list = [\"Meowski\"]  # Not allowed"
   ]
  },
  {
   "cell_type": "markdown",
   "metadata": {},
   "source": [
    "Instead we need to use the special `field` function, with a `default_factory` parameter that specifies a function that creates the default object."
   ]
  },
  {
   "cell_type": "code",
   "execution_count": null,
   "metadata": {
    "slideshow": {
     "slide_type": "slide"
    }
   },
   "outputs": [],
   "source": [
    "from dataclasses import dataclass, field\n",
    "from typing import List\n",
    "\n",
    "@dataclass\n",
    "class CatOwner:\n",
    "    name: str\n",
    "    has_license: bool = True\n",
    "    cats: List[str] = field(default_factory=lambda: ['Meowski'])\n"
   ]
  },
  {
   "cell_type": "code",
   "execution_count": null,
   "metadata": {
    "slideshow": {
     "slide_type": "-"
    }
   },
   "outputs": [],
   "source": [
    "a = CatOwner('Anna')\n",
    "print(a)\n",
    "\n",
    "a.has_license = False\n",
    "print(a)"
   ]
  },
  {
   "cell_type": "markdown",
   "metadata": {},
   "source": [
    "A dataclass is mutable by default. However, by using the `frozen` argument, it becomes immutable. There are also a couple of other arguments that lets us customize the behaviour of the dataclass."
   ]
  },
  {
   "cell_type": "markdown",
   "metadata": {
    "slideshow": {
     "slide_type": "slide"
    }
   },
   "source": [
    "### Generated special functions\n",
    "\n",
    "```python\n",
    "@dataclass\n",
    "```\n",
    "        __init__, __repr__, __eq__\n",
    "\n",
    "```python\n",
    "@dataclass(frozen=True)\n",
    "```\n",
    "        __setattr__, __delattr__, (__hash__)\n",
    "\n",
    "\n",
    "```python\n",
    "@dataclass(order=True)\n",
    "```\n",
    "        __lt__, __le__, __gt__, __ge__\n",
    "        \n",
    "```python\n",
    "@dataclass(unsafe_hash=True)\n",
    "```\n",
    "        __hash__"
   ]
  },
  {
   "cell_type": "markdown",
   "metadata": {
    "slideshow": {
     "slide_type": "slide"
    }
   },
   "source": [
    "### Customizability\n"
   ]
  },
  {
   "cell_type": "code",
   "execution_count": null,
   "metadata": {},
   "outputs": [],
   "source": [
    "from dataclasses import dataclass, field\n",
    "from typing import Dict\n",
    "\n",
    "@dataclass(order=True, unsafe_hash=True)\n",
    "class Thing:\n",
    "    # Don't use id in comparison or (string) representation\n",
    "    id_: str = field(repr=False, compare=False, default=\"\")\n",
    "        \n",
    "    # Size wil be used for comparison, since order=True\n",
    "    size: int = 0\n",
    "    \n",
    "    # Don't use content for hash calculation\n",
    "    content: Dict[str, str] = field(default_factory=dict, hash=False)\n",
    "    \n",
    "t1= Thing(\"xyz\", size = 4)\n",
    "t2= Thing(\"abc\", size = 6)\n",
    "print(t1)\n",
    "print(t1 < t2)"
   ]
  },
  {
   "cell_type": "markdown",
   "metadata": {
    "slideshow": {
     "slide_type": "notes"
    }
   },
   "source": [
    "Otherwise, this dataclass functions exactly like a class, it is just a more compact way of writing a class.\n",
    "It is similar to the NamedTuple, but it is mutable, and allows default values for reference types. It is also more customizable.\n"
   ]
  },
  {
   "cell_type": "markdown",
   "metadata": {
    "slideshow": {
     "slide_type": "slide"
    }
   },
   "source": [
    "### Takeaways"
   ]
  },
  {
   "cell_type": "markdown",
   "metadata": {
    "slideshow": {
     "slide_type": "fragment"
    }
   },
   "source": [
    "* `NamedTuple` is a great start"
   ]
  },
  {
   "cell_type": "markdown",
   "metadata": {
    "slideshow": {
     "slide_type": "fragment"
    }
   },
   "source": [
    "* Use `@dataclass` instead if you need \n",
    "    * mutability\n",
    "    * customizability\n",
    "    * default values"
   ]
  },
  {
   "cell_type": "markdown",
   "metadata": {
    "slideshow": {
     "slide_type": "fragment"
    }
   },
   "source": [
    "* Avoid mutable types as default values"
   ]
  },
  {
   "cell_type": "markdown",
   "metadata": {
    "slideshow": {
     "slide_type": "slide"
    }
   },
   "source": [
    "### Thank you!\n",
    "\n",
    "[`github.com/swiperii/python-dataclasses`](github.com/swiperii/python-dataclasses)\n",
    "\n",
    "[simon.westerberg@sartorius.com](mailto:simon.westerberg@sartorius.com)"
   ]
  }
 ],
 "metadata": {
  "celltoolbar": "Slideshow",
  "kernelspec": {
   "display_name": "Python 3",
   "language": "python",
   "name": "python3"
  },
  "language_info": {
   "codemirror_mode": {
    "name": "ipython",
    "version": 3
   },
   "file_extension": ".py",
   "mimetype": "text/x-python",
   "name": "python",
   "nbconvert_exporter": "python",
   "pygments_lexer": "ipython3",
   "version": "3.7.1"
  },
  "rise": {
   "theme": "serif",
   "transition": "none"
  }
 },
 "nbformat": 4,
 "nbformat_minor": 2
}
